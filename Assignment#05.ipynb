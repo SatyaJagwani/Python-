{
 "cells": [
  {
   "cell_type": "markdown",
   "metadata": {},
   "source": [
    "# Python_Basics Assignment # 05"
   ]
  },
  {
   "cell_type": "code",
   "execution_count": 2,
   "metadata": {},
   "outputs": [
    {
     "name": "stdout",
     "output_type": "stream",
     "text": [
      "Enter any number: 4\n",
      "The factorial of 4 is 24\n"
     ]
    }
   ],
   "source": [
    "'''\n",
    "Write a Python function to calculate the factorial of a number (a non-negative\n",
    "integer). The function accepts the number as an argument.\n",
    "'''\n",
    "def recur_factorial(n):\n",
    "    if n == 1:\n",
    "        return n\n",
    "    else:\n",
    "        return n*recur_factorial(n-1)\n",
    "\n",
    "num = int(input(\"Enter any number: \"))\n",
    "if num < 0:\n",
    "    print(\"Sorry, factorial does not exist for negative numbers\")\n",
    "elif num == 0:\n",
    "    print(\"The factorial of 0 is 1\")\n",
    "else:\n",
    "    print(\"The factorial of\", num, \"is\", recur_factorial(num))\n",
    "   \n"
   ]
  },
  {
   "cell_type": "code",
   "execution_count": 5,
   "metadata": {},
   "outputs": [
    {
     "name": "stdout",
     "output_type": "stream",
     "text": [
      "Enter any string: Sagheer Ahmed\n",
      "Original String :  Sagheer Ahmed\n",
      "No. of Upper case characters :  2\n",
      "No. of Lower case Characters :  10\n"
     ]
    }
   ],
   "source": [
    "'''\n",
    "Write a Python function that accepts a string and calculate the number of upper\n",
    "case letters and lower case letters.\n",
    "'''\n",
    "def string_test(string):\n",
    "    d={\"UPPER_CASE\":0, \"LOWER_CASE\":0}\n",
    "    for c in string:\n",
    "        if c.isupper():\n",
    "            d[\"UPPER_CASE\"]+=1\n",
    "        elif c.islower():\n",
    "            d[\"LOWER_CASE\"]+=1\n",
    "        else:\n",
    "            pass\n",
    "    print (\"Original String : \", string)\n",
    "    print (\"No. of Upper case characters : \", d[\"UPPER_CASE\"])\n",
    "    print (\"No. of Lower case Characters : \", d[\"LOWER_CASE\"])\n",
    "    \n",
    "string = input(\"Enter any string: \")\n",
    "string_test(string)\n"
   ]
  },
  {
   "cell_type": "code",
   "execution_count": 6,
   "metadata": {},
   "outputs": [
    {
     "name": "stdout",
     "output_type": "stream",
     "text": [
      "2\n",
      "4\n",
      "12\n",
      "18\n",
      "20\n"
     ]
    }
   ],
   "source": [
    "'''\n",
    "Write a Python function to print the even numbers from a given list.\n",
    "'''\n",
    "alist = [1,2,4,5,12,13,15,17,18,20]\n",
    "for i in alist:\n",
    "    if i%2 == 0:\n",
    "        print(i)"
   ]
  },
  {
   "cell_type": "code",
   "execution_count": 10,
   "metadata": {},
   "outputs": [
    {
     "name": "stdout",
     "output_type": "stream",
     "text": [
      "Enter any string value: abcCBA\n",
      "String is palidrome\n"
     ]
    }
   ],
   "source": [
    "'''\n",
    "Write a Python function that checks whether a passed string is palindrome or not.\n",
    "Note: A palindrome is a word, phrase, or sequence that reads the same\n",
    "backward as forward, e.g., madam\n",
    "'''\n",
    "string_value = input(\"Enter any string value: \")\n",
    "string_value = string_value.casefold()\n",
    "backword_value = reversed(string_value)\n",
    "\n",
    "if list(string_value) == list(backword_value):\n",
    "    print(\"String is palidrome\")\n",
    "else:\n",
    "    print(\"String is not palidrome\")"
   ]
  },
  {
   "cell_type": "code",
   "execution_count": 3,
   "metadata": {},
   "outputs": [
    {
     "name": "stdout",
     "output_type": "stream",
     "text": [
      "23 is a prime number\n",
      "2 is not a prime number\n",
      "13 is a prime number\n",
      "59 is a prime number\n"
     ]
    }
   ],
   "source": [
    "'''\n",
    "Write a Python function that takes a number as a parameter and check the\n",
    "number is prime or not.\n",
    "'''\n",
    "def check_for_prime(integer):\n",
    "    if integer >2:\n",
    "        \n",
    "        for i in range(3,13):\n",
    "            if integer%i ==0:\n",
    "                print(integer,\"is not a prime number\")\n",
    "                break\n",
    "            else:\n",
    "                print(integer,\"is a prime number\")\n",
    "                break\n",
    "    else:\n",
    "        print(integer,\"is not a prime number\")\n",
    "        \n",
    "            \n",
    "check_for_prime(23)\n",
    "check_for_prime(2)\n",
    "check_for_prime(13)\n",
    "check_for_prime(59)\n"
   ]
  },
  {
   "cell_type": "code",
   "execution_count": 4,
   "metadata": {},
   "outputs": [
    {
     "name": "stdout",
     "output_type": "stream",
     "text": [
      "item you buy:  mango\n",
      "item you buy:  apple\n",
      "item you buy:  rice\n",
      "item you buy:  juice\n",
      "item you buy:  masalas\n"
     ]
    }
   ],
   "source": [
    "'''\n",
    "Suppose a customer is shopping in a market and you need to print all the items which user bought from market.\n",
    "Write a function which accepts the multiple arguments of user shopping list and print all the items which user bought from\n",
    "market. (Hint: Arbitrary Argument concept can make this task ease)\n",
    "'''\n",
    "def grocery_list(*items):\n",
    "    for j in items:\n",
    "        print('item you buy: ',j)\n",
    "        \n",
    "\n",
    "grocery_list( \"mango\",\"apple\",\"rice\",\"juice\",\"masalas\" )"
   ]
  },
  {
   "cell_type": "code",
   "execution_count": null,
   "metadata": {},
   "outputs": [],
   "source": []
  }
 ],
 "metadata": {
  "kernelspec": {
   "display_name": "Python 3",
   "language": "python",
   "name": "python3"
  },
  "language_info": {
   "codemirror_mode": {
    "name": "ipython",
    "version": 3
   },
   "file_extension": ".py",
   "mimetype": "text/x-python",
   "name": "python",
   "nbconvert_exporter": "python",
   "pygments_lexer": "ipython3",
   "version": "3.7.3"
  }
 },
 "nbformat": 4,
 "nbformat_minor": 2
}

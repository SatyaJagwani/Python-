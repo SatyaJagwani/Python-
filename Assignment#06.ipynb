{
 "cells": [
  {
   "cell_type": "markdown",
   "metadata": {},
   "source": [
    "# Python_Basics Assignment # 06"
   ]
  },
  {
   "cell_type": "markdown",
   "metadata": {},
   "source": [
    "'''\n",
    "Question 1:\n",
    "Define Object Oriented Programming Language?\n",
    "'''\n",
    " Object-Oriented Programming (OOP) is the term used to describe a programming approach based on objects and classes. \n",
    "The object-oriented paradigm allows us to organise software as a collection of objects that consist of both data \n",
    "and behaviour. This is in contrast to conventional functional programming practice that only loosely connects data\n",
    "and behaviour."
   ]
  },
  {
   "cell_type": "markdown",
   "metadata": {},
   "source": [
    "'''Question 2:\n",
    "List down the Benefits of OOP?'''\n",
    ".Modularity for easier troubleshooting\n",
    ".Reuse of code through inheritance\n",
    ".Flexibility through polymorphism\n",
    ".Effective problem solving"
   ]
  },
  {
   "cell_type": "markdown",
   "metadata": {},
   "source": [
    "'''\n",
    "Question 3:\n",
    "Differentiate between function and method?\n",
    "'''\n",
    "A function is a piece of code that is called by name. It can be passed data to operate on (i.e. the parameters) and can optionally return data (the return value). All data that is passed to a function is explicitly passed.\n",
    "\n",
    "A method is a piece of code that is called by a name that is associated with an object. In most respects it is identical to a function except for two key differences:\n",
    "\n",
    "A method is implicitly passed the object on which it was called.\n",
    "A method is able to operate on data that is contained within the class (remembering that an object is an instance of a class - the class is the definition, the object is an instance of that data)."
   ]
  },
  {
   "cell_type": "markdown",
   "metadata": {},
   "source": [
    "'''\n",
    "Question 4:\n",
    "Define the following terms:\n",
    "1. Class\n",
    "2. Object\n",
    "3. Attribute\n",
    "4. Behavior\n",
    "'''\n",
    "Class: \n",
    "     A class is a blueprint that defines the variables and the methods common to all objects of a certain kind.\n",
    "Object:\n",
    "    In object-oriented programming (OOP), objects are the things you think about first in designing a program and they are also the units of code that are eventually derived from the process. ... Each object is an instance of a particular class or subclass with the class's own methods or procedures and data variables.\n",
    "Attribute:\n",
    "    In Object-oriented programming(OOP), classes and objects have attributes. Attributes are data stored inside a class or instance and represent the state or quality of the class or instance. ... One can think of attributes as noun or adjective, while methods are the verb of the class.\n",
    "Behavior:\n",
    "    Behavior. A class's behavior determines how an instance of that class operates; for example, how it will \"react\" if asked to do something by another class or object or if its internal state changes. Behavior is the only way objects can do anything to themselves or have anything done to them."
   ]
  },
  {
   "cell_type": "code",
   "execution_count": 1,
   "metadata": {},
   "outputs": [
    {
     "name": "stdout",
     "output_type": "stream",
     "text": [
      "Car Specification : \n",
      "('2020', 'Black', 'Yes', 'Yes')\n"
     ]
    }
   ],
   "source": [
    "'''\n",
    "Question 5:\n",
    "Write a code in python in which create a class named it Car which\n",
    "have 5 attributes such like (model, color and name etc.) and 3\n",
    "methods. And create 5 object instance from that class.\n",
    "'''\n",
    "class Car:\n",
    "    def __init__(defined,car_name,car_model,car_color,car_hill_assist,car_fog_lamps):\n",
    "        defined.car_name = \"Car\"\n",
    "        defined.car_model = \"2017\"\n",
    "        defined.car_color = \"Red\"\n",
    "        defined.car_hill_assist = \"Yes\"\n",
    "        defined.car_fog_lamps = \"Yes\"\n",
    "        \n",
    "    def change_car_spec(defined,car_model,car_color,car_hill_assist,car_fog_lamps):\n",
    "        defined.car_model =car_model\n",
    "        defined.car_color = car_color\n",
    "        defined.car_hill_assist = car_hill_assist\n",
    "        defined.car_fog_lamps = car_fog_lamps\n",
    "    \n",
    "    def get_car_spec(defined):\n",
    "        return defined.car_model,defined.car_color,defined.car_hill_assist,defined.car_fog_lamps\n",
    "    \n",
    "    def display_car_spec(defined,*spec):\n",
    "        print(\"Car Specification : \")\n",
    "        for item in spec:\n",
    "            print(item)\n",
    "\n",
    "car1 = Car(\"Toyota Civic\",\"2019\",\"Black\",\"Yes\",\"Yes\")\n",
    "car2 = Car(\"Mehran\",\"2019\",\"Black\",\"Yes\",\"Yes\")\n",
    "car3 = Car(\"City\",\"2019\",\"Red\",\"Yes\",\"Yes\")\n",
    "car4 = Car(\"Caltus\",\"2019\",\"Brown\",\"Yes\",\"Yes\")\n",
    "car5 = Car(\"Hondai\",\"2019\",\"Green\",\"Yes\",\"Yes\")\n",
    "\n",
    "car1.change_car_spec(\"2020\",\"Black\",\"Yes\",\"Yes\")\n",
    "spec = car1.get_car_spec()\n",
    "car1.display_car_spec(spec)\n",
    "\n"
   ]
  },
  {
   "cell_type": "code",
   "execution_count": null,
   "metadata": {},
   "outputs": [],
   "source": []
  }
 ],
 "metadata": {
  "kernelspec": {
   "display_name": "Python 3",
   "language": "python",
   "name": "python3"
  },
  "language_info": {
   "codemirror_mode": {
    "name": "ipython",
    "version": 3
   },
   "file_extension": ".py",
   "mimetype": "text/x-python",
   "name": "python",
   "nbconvert_exporter": "python",
   "pygments_lexer": "ipython3",
   "version": "3.7.3"
  }
 },
 "nbformat": 4,
 "nbformat_minor": 2
}

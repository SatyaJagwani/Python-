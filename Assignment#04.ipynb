{
 "cells": [
  {
   "cell_type": "markdown",
   "metadata": {},
   "source": [
    " # Python_Basics Assignment # 4"
   ]
  },
  {
   "cell_type": "code",
   "execution_count": 1,
   "metadata": {},
   "outputs": [
    {
     "name": "stdout",
     "output_type": "stream",
     "text": [
      "first_name :  Sameer Ahmed\n",
      "last_name :  Rajper\n",
      "age :  16\n",
      "city :  Karachi\n"
     ]
    },
    {
     "data": {
      "text/plain": [
       "{'first_name': 'Sameer Ahmed',\n",
       " 'last_name': 'Rajper',\n",
       " 'age': 16,\n",
       " 'city': 'Karachi'}"
      ]
     },
     "execution_count": 1,
     "metadata": {},
     "output_type": "execute_result"
    }
   ],
   "source": [
    "'''\n",
    "Use a dictionary to store information about a person you know. Store their first name, last name, age, and the city in which \n",
    "they live. You should have keys such as first_name, last_name, age, and city. Print each piece of information stored in your \n",
    "dictionary. Add a new key value pair about qualification then update the qualification value to high academic level then \n",
    "delete it.\n",
    "'''\n",
    "person = {\"first_name\":\"Sameer Ahmed\",\"last_name\":\"Rajper\",\"age\":16,\"city\":\"Karachi\"}\n",
    "for key,value in person.items():\n",
    "    print(key+\" : \",value)\n",
    "person[\"qualification\"] = \"Matric\"\n",
    "person\n",
    "person[\"qualification\"] = \"Intermediate\"\n",
    "person\n",
    "del person[\"qualification\"]\n",
    "person"
   ]
  },
  {
   "cell_type": "code",
   "execution_count": 1,
   "metadata": {},
   "outputs": [
    {
     "name": "stdout",
     "output_type": "stream",
     "text": [
      "KHI ->  {'country': 'Pakistan', 'population': '16.6 million', 'city fact': 'city of Light'}\n",
      "LHR ->  {'country': 'Pakistan', 'population': '5.7 million', 'city fact': 'city of Gardens'}\n",
      "HYD ->  {'country': 'Pakistan', 'population': '6.3 million', 'city fact': ' Hyderabad used to be the capital of Sindh'}\n"
     ]
    }
   ],
   "source": [
    "'''\n",
    "Make a dictionary called cities. Use the names of three cities as keys in your dictionary. Create a dictionary of information \n",
    "about each city and include the country that the city is in, its approximate population, and one fact about that city. \n",
    "The keys for each city’s dictionary should be something like country, population, and fact. Print the name of each city and \n",
    "all of the information you have stored about it.\n",
    "'''\n",
    "cities = {\"KHI\":{\"country\":\"Pakistan\",\"population\":\"16.6 million\",\"city fact\":\"city of Light\"},\n",
    "          \"LHR\":{\"country\":\"Pakistan\",\"population\":\"5.7 million\",\"city fact\":\"city of Gardens\"},\n",
    "          \"HYD\":{\"country\":\"Pakistan\",\"population\":\"6.3 million\",\"city fact\":\" Hyderabad used to be the capital of Sindh\"}}\n",
    "for key,value in cities.items():\n",
    "    print(key+\" -> \",value)"
   ]
  },
  {
   "cell_type": "code",
   "execution_count": 1,
   "metadata": {},
   "outputs": [
    {
     "name": "stdout",
     "output_type": "stream",
     "text": [
      "Enter the No of Person : 4\n",
      "Enter the Age of Person15\n",
      "Your ticket price will be 15$\n",
      "Enter the Age of Person11\n",
      "Your ticket price will be 10$\n",
      "Enter the Age of Person3\n",
      "Your ticket is free! you are allowed to enter\n",
      "Enter the Age of Person1\n",
      "Your are not allowed to enter\n",
      "Contact your parrent\n"
     ]
    }
   ],
   "source": [
    "'''\n",
    "A movie theater charges different ticket prices depending on a person’s age. If a person is under the age of 3, the ticket\n",
    "is free; if they are between 3 and 12, the ticket is $10; and if they are over age 12, the ticket is $15. Write a loop in \n",
    "which you ask users their age, and then tell them the cost of their movie ticket.\n",
    "'''\n",
    "person = int(input(\"Enter the No of Person : \"))\n",
    "\n",
    "total_price = 0 \n",
    "flag = False\n",
    "\n",
    "for i in range(1,person+1):\n",
    "    age = int(input(\"Enter the Age of Person\"))\n",
    "    if age <= 3:\n",
    "        if age == 1:\n",
    "            print(\"Your are not allowed to enter\")\n",
    "            flag = True\n",
    "            break\n",
    "        print(\"Your ticket is free! you are allowed to enter\")\n",
    "    elif age <= 12:\n",
    "        print(\"Your ticket price will be 10$\")\n",
    "        total_price +=10\n",
    "    else:\n",
    "        print(\"Your ticket price will be 15$\")\n",
    "        total_price +=15\n",
    "if flag:\n",
    "    print(\"Contact your parrent\")\n",
    "else:\n",
    "    print(\"Total Amount = \",total_price,\" $ Enjoy your Movie\")\n"
   ]
  },
  {
   "cell_type": "code",
   "execution_count": 4,
   "metadata": {},
   "outputs": [
    {
     "name": "stdout",
     "output_type": "stream",
     "text": [
      "My favourite book is Seven Heavens of World\n"
     ]
    }
   ],
   "source": [
    "'''\n",
    "Write a function called favorite_book() that accepts one parameter, title. The function should print a message, such as One of\n",
    "my favorite books is Alice in Wonderland. Call the function, making sure to include a book title as an argument in the function\n",
    "call.\n",
    "'''\n",
    "def favourite_book(title):\n",
    "    print(\"My favourite book is\",title)\n",
    "favourite_book(\"Seven Heavens of World\")"
   ]
  },
  {
   "cell_type": "code",
   "execution_count": 15,
   "metadata": {},
   "outputs": [
    {
     "name": "stdout",
     "output_type": "stream",
     "text": [
      "Enter the guessed number: 4\n",
      "Not correct number TRY again!\n",
      "Number is greater than your guessed number.\n",
      "Enter the guessed number: 15\n",
      "Not correct number TRY again!\n",
      "Number is greater than your guessed number.\n",
      "Enter the guessed number: 22\n",
      "Correct number Congrats!\n",
      "You Lost!\n"
     ]
    }
   ],
   "source": [
    "'''\n",
    "Guess the number game\n",
    "Write a program which randomly generate a number between 1 to 30 and ask the user in input field to guess the correct number. \n",
    "Give three chances to user guess the number and also give hint to user if hidden number is greater or smaller than the number \n",
    "he given to input field.\n",
    "'''\n",
    "import random\n",
    "random_number = random.randrange(1,30,1)\n",
    "for i in range(3):\n",
    "    guess_number = int(input(\"Enter the guessed number: \"))\n",
    "    if guess_number != random_number:\n",
    "        print(\"Not correct number TRY again!\")\n",
    "        if  guess_number > random_number:\n",
    "            print(\"Number is less than your guessed number.\")\n",
    "        else:\n",
    "            print(\"Number is greater than your guessed number.\")\n",
    "    else:\n",
    "        print(\"Correct number Congrats!\")"
   ]
  },
  {
   "cell_type": "code",
   "execution_count": null,
   "metadata": {},
   "outputs": [],
   "source": []
  },
  {
   "cell_type": "code",
   "execution_count": null,
   "metadata": {},
   "outputs": [],
   "source": []
  }
 ],
 "metadata": {
  "kernelspec": {
   "display_name": "Python 3",
   "language": "python",
   "name": "python3"
  },
  "language_info": {
   "codemirror_mode": {
    "name": "ipython",
    "version": 3
   },
   "file_extension": ".py",
   "mimetype": "text/x-python",
   "name": "python",
   "nbconvert_exporter": "python",
   "pygments_lexer": "ipython3",
   "version": "3.7.3"
  }
 },
 "nbformat": 4,
 "nbformat_minor": 2
}

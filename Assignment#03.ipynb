{
 "cells": [
  {
   "cell_type": "markdown",
   "metadata": {},
   "source": [
    "\n",
    "# Python_Basics Assignment # 3"
   ]
  },
  {
   "cell_type": "code",
   "execution_count": 3,
   "metadata": {},
   "outputs": [
    {
     "name": "stdout",
     "output_type": "stream",
     "text": [
      "Enter First number: 5\n",
      "Enter Second number: 3\n",
      "Press 1 to add: \n",
      "Press 2 to sub: \n",
      "Press 3 to mul: \n",
      "Press 4 to div: \n",
      "Press 5 to power: \n",
      "2\n",
      "2\n"
     ]
    }
   ],
   "source": [
    "'''\n",
    "Make a calculator using Python with addition , subtraction , multiplication ,\n",
    "division and power.\n",
    "'''\n",
    "num1 = int(input(\"Enter First number: \"))\n",
    "num2 = int(input(\"Enter Second number: \"))\n",
    "\n",
    "def add(num1,num2):\n",
    "    print(num1+num2)\n",
    "def sub(num1,num2):\n",
    "    print(num1-num2)\n",
    "def mul(num1,num2):\n",
    "    print(num1*num2)\n",
    "def div(num1,num2):\n",
    "    print(num1/num2)\n",
    "def power(num1,num2):\n",
    "    print(num1**2,\" and \",pow(num2,2))\n",
    "    \n",
    "print(\"Press 1 to add: \")\n",
    "print(\"Press 2 to sub: \")\n",
    "print(\"Press 3 to mul: \")\n",
    "print(\"Press 4 to div: \")\n",
    "print(\"Press 5 to power: \")\n",
    "operation = int(input())\n",
    "\n",
    "if operation == 1:\n",
    "    add(num1,num2)\n",
    "elif operation == 2:\n",
    "    sub(num1,num2)\n",
    "elif operation == 3:\n",
    "    mul(num1,num2)\n",
    "elif operation == 4:\n",
    "    div(num1,num2)\n",
    "elif operation == 5:\n",
    "    power(num1,num2)\n"
   ]
  },
  {
   "cell_type": "code",
   "execution_count": 13,
   "metadata": {},
   "outputs": [
    {
     "name": "stdout",
     "output_type": "stream",
     "text": [
      "13\n"
     ]
    }
   ],
   "source": [
    "'''\n",
    "Write a program to check if there is any numeric value in list using for loop\n",
    "'''\n",
    "alist = [\"Sagheer\",\"Ahmed\",13]\n",
    "for num in alist:\n",
    "    type(num)\n",
    "    if type(num) != str:\n",
    "        print(num)\n",
    "        "
   ]
  },
  {
   "cell_type": "code",
   "execution_count": 15,
   "metadata": {},
   "outputs": [
    {
     "name": "stdout",
     "output_type": "stream",
     "text": [
      "{1: 'Sagheer', 2: 'Sameer'}\n",
      "{1: 'Sagheer', 2: 'Sameer', 3: 'Shabir'}\n"
     ]
    }
   ],
   "source": [
    "'''\n",
    "Write a Python script to add a key to a dictionary\n",
    "'''\n",
    "dic = {1:\"Sagheer\",2:\"Sameer\"}\n",
    "print(dic)\n",
    "dic[3] = \"Shabir\"\n",
    "print(dic)"
   ]
  },
  {
   "cell_type": "code",
   "execution_count": 21,
   "metadata": {},
   "outputs": [
    {
     "data": {
      "text/plain": [
       "66"
      ]
     },
     "execution_count": 21,
     "metadata": {},
     "output_type": "execute_result"
    }
   ],
   "source": [
    "'''\n",
    "Write a Python program to sum all the numeric items in a dictionary\n",
    "'''\n",
    "adic = {1:\"SAR\",2:13,\"Name\":\"Saeed\",\"Roll\":53}\n",
    "count = 0\n",
    "for i in adic.values():\n",
    "    if type(i) == int:\n",
    "        count+=i\n",
    "count"
   ]
  },
  {
   "cell_type": "code",
   "execution_count": 6,
   "metadata": {},
   "outputs": [
    {
     "name": "stdout",
     "output_type": "stream",
     "text": [
      "Repeated item in list are  [2, 3, 4]\n"
     ]
    }
   ],
   "source": [
    "'''\n",
    "Write a program to identify duplicate values from list\n",
    "'''\n",
    "alist = [2,3,4,5,6,4,3,2,7]\n",
    "list_range = len(alist)\n",
    "repeated = []\n",
    "for i in range(list_range):\n",
    "    a = i + 2\n",
    "    for b in range(a,list_range):\n",
    "        if alist[i] == alist[b] and alist[i] not in repeated:\n",
    "            repeated.append(alist[i])\n",
    "print(\"Repeated item in list are \",repeated)"
   ]
  },
  {
   "cell_type": "code",
   "execution_count": 8,
   "metadata": {},
   "outputs": [
    {
     "name": "stdout",
     "output_type": "stream",
     "text": [
      "Enter key Name check if exist or notnum1\n",
      "Given key exist\n"
     ]
    }
   ],
   "source": [
    "'''\n",
    "Write a Python script to check if a given key already exists in a dictionary\n",
    "'''\n",
    "dic = {\n",
    "    'num1' : 12,\n",
    "    'num2' : 14,\n",
    "    'string' : 'Name',\n",
    "    'char' : 'a',\n",
    "    'num33' : 17,\n",
    "    'num4' : 21\n",
    "}\n",
    "check_key = input(\"Enter key Name check if exist or not\")\n",
    "flag = False\n",
    "for i in dic.keys():\n",
    "    if i == check_key:\n",
    "        flag = True\n",
    "        break\n",
    "if flag:\n",
    "    print(\"Given key exist\")\n",
    "    \n",
    "else:\n",
    "    print(\"Given key does not exist\")"
   ]
  },
  {
   "cell_type": "code",
   "execution_count": null,
   "metadata": {},
   "outputs": [],
   "source": []
  }
 ],
 "metadata": {
  "kernelspec": {
   "display_name": "Python 3",
   "language": "python",
   "name": "python3"
  },
  "language_info": {
   "codemirror_mode": {
    "name": "ipython",
    "version": 3
   },
   "file_extension": ".py",
   "mimetype": "text/x-python",
   "name": "python",
   "nbconvert_exporter": "python",
   "pygments_lexer": "ipython3",
   "version": "3.7.3"
  }
 },
 "nbformat": 4,
 "nbformat_minor": 2
}

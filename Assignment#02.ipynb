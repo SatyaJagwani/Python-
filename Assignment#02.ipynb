{
 "cells": [
  {
   "cell_type": "markdown",
   "metadata": {},
   "source": [
    "# Python_Basics Assignment # 2"
   ]
  },
  {
   "cell_type": "code",
   "execution_count": 17,
   "metadata": {},
   "outputs": [
    {
     "name": "stdout",
     "output_type": "stream",
     "text": [
      "Enter marks of english: 45\n",
      "Enter marks of science: 85\n",
      "Enter marks of islamiat: 65\n",
      "Enter marks of computer: 62\n",
      "Enter marks of Pk.studies: 52\n",
      "Your grade is B\n"
     ]
    }
   ],
   "source": [
    "'''\n",
    "Write a program which takes 5 inputs from user for different subject’s\n",
    "marks, total it and generate mark sheet using grades ?\n",
    "'''\n",
    "sub1 = int(input(\"Enter marks of english: \"))\n",
    "sub2 = int(input(\"Enter marks of science: \"))\n",
    "sub3 = int(input(\"Enter marks of islamiat: \"))\n",
    "sub4= int(input(\"Enter marks of computer: \"))\n",
    "sub5 = int(input(\"Enter marks of Pk.studies: \"))\n",
    "\n",
    "obtained_marks = sub1 + sub2 + sub3 + sub4 + sub5\n",
    "percentage = (obtained_marks/5)\n",
    "\n",
    "if percentage < 50.0:\n",
    "    print(\"You are fail!\")\n",
    "elif percentage >=50.0 and percentage<60.0:\n",
    "    print(\"Your grade is C\")\n",
    "elif percentage >=60.0 and percentage<70.0:\n",
    "    print(\"Your grade is B\")\n",
    "elif percentage >=70.0 and percentage<80.0:\n",
    "    print(\"Your grade is A\")\n",
    "elif percentage >=80.0 and percentage<=100.0:\n",
    "    print(\"Your grade is A+\")\n",
    "else:\n",
    "    print(\"obtained marks are not valid!\")"
   ]
  },
  {
   "cell_type": "code",
   "execution_count": null,
   "metadata": {},
   "outputs": [],
   "source": [
    "'''\n",
    "Write a program which take input from user and identify that the given\n",
    "number is even or odd?\n",
    "'''\n",
    "num = int(input(\"Enter any number: \"))\n",
    "if num%2 == 0:\n",
    "    print(\"Number is even!\")\n",
    "else:\n",
    "    print(\"Number is odd!\")\n",
    "    \n",
    "    "
   ]
  },
  {
   "cell_type": "code",
   "execution_count": null,
   "metadata": {},
   "outputs": [],
   "source": [
    "'''\n",
    "Write a program which print the length of the list?\n",
    "'''\n",
    "alist = [2,4,6,8,10]\n",
    "#len(alist)\n",
    "count = 0\n",
    "for i in alist:\n",
    "    count+=1\n",
    "print(count)\n",
    "    "
   ]
  },
  {
   "cell_type": "code",
   "execution_count": 40,
   "metadata": {},
   "outputs": [
    {
     "data": {
      "text/plain": [
       "25"
      ]
     },
     "execution_count": 40,
     "metadata": {},
     "output_type": "execute_result"
    }
   ],
   "source": [
    "'''\n",
    "Write a Python program to sum all the numeric items in a list?\n",
    "'''\n",
    "count = 0\n",
    "alist = [1,3,5,7,9]\n",
    "#sum(alist)\n",
    "for num in alist:\n",
    "    count+=num\n",
    "count\n"
   ]
  },
  {
   "cell_type": "code",
   "execution_count": 45,
   "metadata": {},
   "outputs": [
    {
     "data": {
      "text/plain": [
       "9"
      ]
     },
     "execution_count": 45,
     "metadata": {},
     "output_type": "execute_result"
    }
   ],
   "source": [
    "'''\n",
    "Write a Python program to get the largest number from a numeric list.\n",
    "'''\n",
    "alist = [1,3,5,7,9]\n",
    "num = 0\n",
    "for i in alist:\n",
    "    if i > num:\n",
    "        num = i\n",
    "num"
   ]
  },
  {
   "cell_type": "code",
   "execution_count": 46,
   "metadata": {},
   "outputs": [
    {
     "name": "stdout",
     "output_type": "stream",
     "text": [
      "1\n",
      "1\n",
      "2\n",
      "3\n"
     ]
    }
   ],
   "source": [
    "'''\n",
    "Take a list, say for example this one:\n",
    "a = [1, 1, 2, 3, 5, 8, 13, 21, 34, 55, 89]\n",
    "and write a program that prints out all the elements of the list that are\n",
    "less than 5.\n",
    "'''\n",
    "a = [1, 1, 2, 3, 5, 8, 13, 21, 34, 55, 89]\n",
    "for num in a:\n",
    "    if num < 5:\n",
    "        print(num)\n"
   ]
  },
  {
   "cell_type": "code",
   "execution_count": null,
   "metadata": {},
   "outputs": [],
   "source": []
  },
  {
   "cell_type": "code",
   "execution_count": null,
   "metadata": {},
   "outputs": [],
   "source": []
  }
 ],
 "metadata": {
  "kernelspec": {
   "display_name": "Python 3",
   "language": "python",
   "name": "python3"
  },
  "language_info": {
   "codemirror_mode": {
    "name": "ipython",
    "version": 3
   },
   "file_extension": ".py",
   "mimetype": "text/x-python",
   "name": "python",
   "nbconvert_exporter": "python",
   "pygments_lexer": "ipython3",
   "version": "3.7.3"
  }
 },
 "nbformat": 4,
 "nbformat_minor": 2
}
